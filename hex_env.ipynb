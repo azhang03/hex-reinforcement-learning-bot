{
 "cells": [
  {
   "cell_type": "code",
   "execution_count": 3,
   "id": "9d389dd2-b227-4b5c-98f8-3284d1cae783",
   "metadata": {},
   "outputs": [],
   "source": [
    "import gym\n",
    "from gym import spaces\n",
    "import numpy as np\n"
   ]
  },
  {
   "cell_type": "code",
   "execution_count": 32,
   "id": "39aa488c-8e4d-46a4-88bf-8726ed59b318",
   "metadata": {},
   "outputs": [],
   "source": [
    "class HexEnv(gym.Env):\n",
    "    def __init__(self, size=5):\n",
    "        self.size = size\n",
    "        self.action_space = spaces.Discrete(size * size)\n",
    "        self.observation_space = spaces.Box(low=-1, high=1, shape=(size, size), dtype=np.int8)\n",
    "        self.reset()\n",
    "    \n",
    "    def reset(self):\n",
    "        self.board = np.zeros((self.size, self.size), dtype=np.int8)\n",
    "        self.current_player = 1\n",
    "        return self.board.copy()\n",
    "\n",
    "    def step(self, action):\n",
    "        x, y = divmod(action, self.size)\n",
    "        if self.board[x][y] != 0:\n",
    "            return self.board.copy(), -10, True, {}  # illegal move penalty\n",
    "        \n",
    "        self.board[x][y] = self.current_player\n",
    "        done = self.check_win()\n",
    "        reward = 1 if done else 0\n",
    "        self.current_player *= -1\n",
    "        return self.board.copy(), reward, done, {}\n",
    "\n",
    "    def check_win(self):\n",
    "        size = self.size\n",
    "        player = self.current_player\n",
    "        visited = set()\n",
    "\n",
    "        def dfs(x, y):\n",
    "            if (x, y) in visited:\n",
    "                return False\n",
    "            visited.add((x, y))\n",
    "\n",
    "            if player == 1 and x == size - 1:\n",
    "                return True\n",
    "            if player == -1 and y == size - 1:\n",
    "                return True\n",
    "\n",
    "            directions = [(-1, 0), (-1, 1), (0, -1), (0, 1), (1, -1), (1, 0)]\n",
    "            for dx, dy in directions:\n",
    "                nx, ny = x + dx, y + dy\n",
    "                if 0 <= nx < size and 0 <= ny < size:\n",
    "                    if self.board[nx][ny] == player:\n",
    "                        if dfs(nx, ny):\n",
    "                            return True\n",
    "            return False\n",
    "\n",
    "        if player == 1:\n",
    "            for col in range(size):\n",
    "                if self.board[0][col] == player:\n",
    "                    if dfs(0, col):\n",
    "                        return True\n",
    "        else:\n",
    "            for row in range(size):\n",
    "                if self.board[row][0] == player:\n",
    "                    if dfs(row, 0):\n",
    "                        return True\n",
    "        return False\n"
   ]
  },
  {
   "cell_type": "markdown",
   "id": "6d4fcd94-133b-494a-bd69-306214ba8994",
   "metadata": {},
   "source": [
    "Make sure I have everything installed:"
   ]
  },
  {
   "cell_type": "code",
   "execution_count": 13,
   "id": "c40e1cfb-9f29-4476-b242-266d7565a45c",
   "metadata": {
    "scrolled": true
   },
   "outputs": [
    {
     "name": "stdout",
     "output_type": "stream",
     "text": [
      "Initial Board:\n",
      "[[0 0 0 0 0]\n",
      " [0 0 0 0 0]\n",
      " [0 0 0 0 0]\n",
      " [0 0 0 0 0]\n",
      " [0 0 0 0 0]]\n",
      "\n",
      "After Move:\n",
      "[[0 0 0 0 0]\n",
      " [0 0 0 0 0]\n",
      " [0 0 1 0 0]\n",
      " [0 0 0 0 0]\n",
      " [0 0 0 0 0]]\n"
     ]
    }
   ],
   "source": [
    "env = HexEnv(size=5)\n",
    "\n",
    "obs = env.reset()\n",
    "print(\"Initial Board:\")\n",
    "print(obs)\n",
    "\n",
    "# Try a move\n",
    "action = 12  # e.g., center of 5x5\n",
    "obs, reward, done, _ = env.step(action)\n",
    "print(\"\\nAfter Move:\")\n",
    "print(obs)\n"
   ]
  },
  {
   "cell_type": "markdown",
   "id": "fb8e921a-8c3a-4b17-abde-8dc885899548",
   "metadata": {},
   "source": [
    "DFS"
   ]
  },
  {
   "cell_type": "code",
   "execution_count": 33,
   "id": "3a463f0d-ff4e-4510-80d9-753658c09cfd",
   "metadata": {},
   "outputs": [
    {
     "name": "stdout",
     "output_type": "stream",
     "text": [
      "[[0 0 1 0 0]\n",
      " [0 0 1 0 0]\n",
      " [0 0 1 0 0]\n",
      " [0 0 1 0 0]\n",
      " [0 0 1 0 0]]\n",
      "Player 1 win? True\n"
     ]
    }
   ],
   "source": [
    "env = HexEnv(size=5)\n",
    "env.reset()\n",
    "for i in range(5):\n",
    "    env.board[i][2] = 1\n",
    "env.current_player = 1\n",
    "print(env.board)\n",
    "print(\"Player 1 win?\", env.check_win())\n"
   ]
  },
  {
   "cell_type": "code",
   "execution_count": null,
   "id": "d4b9df76-289b-40d2-84a3-25a8fa15ddce",
   "metadata": {},
   "outputs": [],
   "source": []
  }
 ],
 "metadata": {
  "kernelspec": {
   "display_name": "Python 3 (ipykernel)",
   "language": "python",
   "name": "python3"
  },
  "language_info": {
   "codemirror_mode": {
    "name": "ipython",
    "version": 3
   },
   "file_extension": ".py",
   "mimetype": "text/x-python",
   "name": "python",
   "nbconvert_exporter": "python",
   "pygments_lexer": "ipython3",
   "version": "3.9.21"
  }
 },
 "nbformat": 4,
 "nbformat_minor": 5
}
